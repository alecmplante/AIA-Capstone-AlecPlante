{
 "cells": [
  {
   "cell_type": "markdown",
   "metadata": {},
   "source": [
    "# An Analysis of Popular Music: Alec Plante\n",
    "***\n",
    "## Overveiw\n",
    "This project intends to find trends and analyze popular music throughout history. Particularly this project intends to explore the areas of:\n",
    "- Streaming services\n",
    "- Tik Tok\n",
    "- What makes a song popular\n",
    "- Prediction of popularity of a song\n",
    "\n",
    "\n",
    "If you're a record company, you want popular songs, because that makes you money"
   ]
  },
  {
   "cell_type": "code",
   "execution_count": 2,
   "metadata": {},
   "outputs": [],
   "source": [
    "# imports\n",
    "import pandas as pd\n",
    "import datetime\n",
    "from functions import *"
   ]
  },
  {
   "cell_type": "code",
   "execution_count": 3,
   "metadata": {},
   "outputs": [],
   "source": [
    "# load in the billboard data\n",
    "billboard = pd.read_csv('Data/billboard100.csv')\n",
    "topsongs = pd.read_csv('Data/spotifyTopSongs.tsv')"
   ]
  },
  {
   "cell_type": "code",
   "execution_count": 10,
   "metadata": {
    "scrolled": false
   },
   "outputs": [
    {
     "data": {
      "text/html": [
       "<div>\n",
       "<style scoped>\n",
       "    .dataframe tbody tr th:only-of-type {\n",
       "        vertical-align: middle;\n",
       "    }\n",
       "\n",
       "    .dataframe tbody tr th {\n",
       "        vertical-align: top;\n",
       "    }\n",
       "\n",
       "    .dataframe thead th {\n",
       "        text-align: right;\n",
       "    }\n",
       "</style>\n",
       "<table border=\"1\" class=\"dataframe\">\n",
       "  <thead>\n",
       "    <tr style=\"text-align: right;\">\n",
       "      <th></th>\n",
       "      <th>Pos</th>\n",
       "      <th>Artist</th>\n",
       "      <th>Title</th>\n",
       "      <th>Wks</th>\n",
       "      <th>T10</th>\n",
       "      <th>Pk</th>\n",
       "      <th>(x?)</th>\n",
       "      <th>PkStreams</th>\n",
       "      <th>Total</th>\n",
       "    </tr>\n",
       "  </thead>\n",
       "  <tbody>\n",
       "    <tr>\n",
       "      <th>0</th>\n",
       "      <td>1</td>\n",
       "      <td>The Weeknd</td>\n",
       "      <td>Blinding Lights</td>\n",
       "      <td>172</td>\n",
       "      <td>64.0</td>\n",
       "      <td>1</td>\n",
       "      <td>(x13)</td>\n",
       "      <td>52375259</td>\n",
       "      <td>3406980588</td>\n",
       "    </tr>\n",
       "    <tr>\n",
       "      <th>1</th>\n",
       "      <td>2</td>\n",
       "      <td>Ed Sheeran</td>\n",
       "      <td>Shape of You</td>\n",
       "      <td>308</td>\n",
       "      <td>34.0</td>\n",
       "      <td>1</td>\n",
       "      <td>(x14)</td>\n",
       "      <td>64217796</td>\n",
       "      <td>3302350300</td>\n",
       "    </tr>\n",
       "    <tr>\n",
       "      <th>2</th>\n",
       "      <td>3</td>\n",
       "      <td>Lewis Capaldi</td>\n",
       "      <td>Someone You Loved</td>\n",
       "      <td>218</td>\n",
       "      <td>15.0</td>\n",
       "      <td>4</td>\n",
       "      <td>NaN</td>\n",
       "      <td>24962682</td>\n",
       "      <td>2623186016</td>\n",
       "    </tr>\n",
       "    <tr>\n",
       "      <th>3</th>\n",
       "      <td>4</td>\n",
       "      <td>Tones And I</td>\n",
       "      <td>Dance Monkey</td>\n",
       "      <td>151</td>\n",
       "      <td>41.0</td>\n",
       "      <td>1</td>\n",
       "      <td>(x17)</td>\n",
       "      <td>52055226</td>\n",
       "      <td>2538070349</td>\n",
       "    </tr>\n",
       "    <tr>\n",
       "      <th>4</th>\n",
       "      <td>5</td>\n",
       "      <td>Post Malone</td>\n",
       "      <td>Sunflower - Spider-Man: Into the Spider-Verse</td>\n",
       "      <td>225</td>\n",
       "      <td>31.0</td>\n",
       "      <td>1</td>\n",
       "      <td>(x2)</td>\n",
       "      <td>34579416</td>\n",
       "      <td>2498983472</td>\n",
       "    </tr>\n",
       "  </tbody>\n",
       "</table>\n",
       "</div>"
      ],
      "text/plain": [
       "   Pos         Artist                                          Title  Wks  \\\n",
       "0    1     The Weeknd                                Blinding Lights  172   \n",
       "1    2     Ed Sheeran                                   Shape of You  308   \n",
       "2    3  Lewis Capaldi                              Someone You Loved  218   \n",
       "3    4    Tones And I                                   Dance Monkey  151   \n",
       "4    5    Post Malone  Sunflower - Spider-Man: Into the Spider-Verse  225   \n",
       "\n",
       "    T10  Pk   (x?)  PkStreams       Total  \n",
       "0  64.0   1  (x13)   52375259  3406980588  \n",
       "1  34.0   1  (x14)   64217796  3302350300  \n",
       "2  15.0   4    NaN   24962682  2623186016  \n",
       "3  41.0   1  (x17)   52055226  2538070349  \n",
       "4  31.0   1   (x2)   34579416  2498983472  "
      ]
     },
     "execution_count": 10,
     "metadata": {},
     "output_type": "execute_result"
    }
   ],
   "source": [
    "topsongs.head()"
   ]
  },
  {
   "cell_type": "code",
   "execution_count": 9,
   "metadata": {},
   "outputs": [],
   "source": [
    "topsongs.drop(\"Unnamed: 0\", axis = 1, inplace=True)"
   ]
  },
  {
   "cell_type": "code",
   "execution_count": 3,
   "metadata": {
    "scrolled": true
   },
   "outputs": [
    {
     "name": "stdout",
     "output_type": "stream",
     "text": [
      "<class 'pandas.core.frame.DataFrame'>\n",
      "RangeIndex: 336687 entries, 0 to 336686\n",
      "Data columns (total 8 columns):\n",
      " #   Column        Non-Null Count   Dtype \n",
      "---  ------        --------------   ----- \n",
      " 0   Unnamed: 0    336687 non-null  int64 \n",
      " 1   Date          336687 non-null  object\n",
      " 2   Rank          336687 non-null  int64 \n",
      " 3   Title         336687 non-null  object\n",
      " 4   Artist        336687 non-null  object\n",
      " 5   LastWeek      336687 non-null  object\n",
      " 6   Peak          336687 non-null  int64 \n",
      " 7   WeeksOnChart  336687 non-null  int64 \n",
      "dtypes: int64(4), object(4)\n",
      "memory usage: 20.5+ MB\n"
     ]
    }
   ],
   "source": [
    "#Check info\n",
    "billboard.info()\n",
    "#There is an extra column and the dates are not of type"
   ]
  },
  {
   "cell_type": "code",
   "execution_count": 4,
   "metadata": {},
   "outputs": [],
   "source": [
    "#Remove column 0\n",
    "billboard.drop(\"Unnamed: 0\", axis = 1, inplace=True)"
   ]
  },
  {
   "cell_type": "code",
   "execution_count": 5,
   "metadata": {},
   "outputs": [],
   "source": [
    "#Change type of Date Column to datetime\n",
    "billboard[\"Date\"]= pd.to_datetime(billboard[\"Date\"])"
   ]
  },
  {
   "cell_type": "code",
   "execution_count": 6,
   "metadata": {
    "scrolled": true
   },
   "outputs": [
    {
     "name": "stdout",
     "output_type": "stream",
     "text": [
      "<class 'pandas.core.frame.DataFrame'>\n",
      "RangeIndex: 336687 entries, 0 to 336686\n",
      "Data columns (total 7 columns):\n",
      " #   Column        Non-Null Count   Dtype         \n",
      "---  ------        --------------   -----         \n",
      " 0   Date          336687 non-null  datetime64[ns]\n",
      " 1   Rank          336687 non-null  int64         \n",
      " 2   Title         336687 non-null  object        \n",
      " 3   Artist        336687 non-null  object        \n",
      " 4   LastWeek      336687 non-null  object        \n",
      " 5   Peak          336687 non-null  int64         \n",
      " 6   WeeksOnChart  336687 non-null  int64         \n",
      "dtypes: datetime64[ns](1), int64(3), object(3)\n",
      "memory usage: 18.0+ MB\n"
     ]
    }
   ],
   "source": [
    "# See changes\n",
    "billboard.info()"
   ]
  },
  {
   "cell_type": "code",
   "execution_count": 7,
   "metadata": {
    "scrolled": true
   },
   "outputs": [
    {
     "name": "stdout",
     "output_type": "stream",
     "text": [
      "INIT: getdata from 2023-02-04 00:00:00\n",
      "INIT: request page 2023-02-11\n"
     ]
    },
    {
     "name": "stderr",
     "output_type": "stream",
     "text": [
      "C:\\Users\\aplante\\OneDrive - Deloitte (O365D)\\Documents\\AI-Academy\\Project\\functions.py:85: GuessedAtParserWarning: No parser was explicitly specified, so I'm using the best available HTML parser for this system (\"lxml\"). This usually isn't a problem, but if you run this code on another system, or in a different virtual environment, it may use a different parser and behave differently.\n",
      "\n",
      "The code that caused this warning is on line 85 of the file C:\\Users\\aplante\\OneDrive - Deloitte (O365D)\\Documents\\AI-Academy\\Project\\functions.py. To get rid of this warning, pass the additional argument 'features=\"lxml\"' to the BeautifulSoup constructor.\n",
      "\n",
      "  data = BeautifulSoup(r.content, parser=\"lxml\")\n"
     ]
    },
    {
     "name": "stdout",
     "output_type": "stream",
     "text": [
      "INIT: request page 2023-02-18\n",
      "INIT: request page 2023-02-25\n",
      "END: getdata from 2023-02-04 00:00:00\n"
     ]
    }
   ],
   "source": [
    "#Update with new data from the billboard chart\n",
    "updatedata(billboard)"
   ]
  },
  {
   "cell_type": "code",
   "execution_count": 8,
   "metadata": {},
   "outputs": [
    {
     "data": {
      "text/plain": [
       "100"
      ]
     },
     "execution_count": 8,
     "metadata": {},
     "output_type": "execute_result"
    }
   ],
   "source": [
    "# ensure that no date was counted twice\n",
    "max(billboard['Date'].value_counts())"
   ]
  },
  {
   "cell_type": "code",
   "execution_count": null,
   "metadata": {},
   "outputs": [],
   "source": [
    "# if you want to save it back to the CSV\n",
    "#billboard.to_csv('Data/billboard100.csv')"
   ]
  }
 ],
 "metadata": {
  "kernelspec": {
   "display_name": "Python (learn-env)",
   "language": "python",
   "name": "learn-env"
  },
  "language_info": {
   "codemirror_mode": {
    "name": "ipython",
    "version": 3
   },
   "file_extension": ".py",
   "mimetype": "text/x-python",
   "name": "python",
   "nbconvert_exporter": "python",
   "pygments_lexer": "ipython3",
   "version": "3.8.5"
  }
 },
 "nbformat": 4,
 "nbformat_minor": 4
}
